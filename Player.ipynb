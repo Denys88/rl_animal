{
 "cells": [
  {
   "cell_type": "code",
   "execution_count": 1,
   "metadata": {},
   "outputs": [],
   "source": [
    "import math\n",
    "from tensorboardX import SummaryWriter\n",
    "import env_configurations\n",
    "import tensorflow as tf\n",
    "import collections\n",
    "import gym\n",
    "import games_configurations\n",
    "from validator import Validator\n",
    "\n",
    "a2c_config = games_configurations.animal_ai_ray_times1\n",
    "gpu_options = tf.GPUOptions(allow_growth=True,per_process_gpu_memory_fraction=0.8)\n",
    "\n",
    "config=tf.ConfigProto(gpu_options=gpu_options)\n",
    "sess = tf.InteractiveSession(config=config)"
   ]
  },
  {
   "cell_type": "code",
   "execution_count": null,
   "metadata": {
    "scrolled": true
   },
   "outputs": [],
   "source": [
    "\n"
   ]
  },
  {
   "cell_type": "code",
   "execution_count": null,
   "metadata": {},
   "outputs": [],
   "source": []
  },
  {
   "cell_type": "code",
   "execution_count": 2,
   "metadata": {
    "scrolled": true
   },
   "outputs": [
    {
     "name": "stderr",
     "output_type": "stream",
     "text": [
      "WARNING: Logging before flag parsing goes to stderr.\n",
      "W1124 15:23:55.339015 139620787267392 deprecation_wrapper.py:119] From /home/trrrrr/Documents/github/ml/animal_master/rl_animal/players.py:36: The name tf.placeholder is deprecated. Please use tf.compat.v1.placeholder instead.\n",
      "\n",
      "W1124 15:23:55.343497 139620787267392 deprecation.py:323] From /home/trrrrr/Documents/github/ml/animal_master/rl_animal/players.py:50: to_float (from tensorflow.python.ops.math_ops) is deprecated and will be removed in a future version.\n",
      "Instructions for updating:\n",
      "Use `tf.cast` instead.\n",
      "W1124 15:23:55.345051 139620787267392 deprecation_wrapper.py:119] From /home/trrrrr/Documents/github/ml/animal_master/rl_animal/networks.py:388: The name tf.variable_scope is deprecated. Please use tf.compat.v1.variable_scope instead.\n",
      "\n",
      "W1124 15:23:55.345491 139620787267392 deprecation.py:323] From /home/trrrrr/Documents/github/ml/animal_master/rl_animal/networks.py:246: conv2d (from tensorflow.python.layers.convolutional) is deprecated and will be removed in a future version.\n",
      "Instructions for updating:\n",
      "Use `tf.keras.layers.Conv2D` instead.\n",
      "W1124 15:23:55.348757 139620787267392 deprecation.py:506] From /home/trrrrr/anaconda3/envs/rl/lib/python3.6/site-packages/tensorflow/python/ops/init_ops.py:1251: calling VarianceScaling.__init__ (from tensorflow.python.ops.init_ops) with dtype is deprecated and will be removed in a future version.\n",
      "Instructions for updating:\n",
      "Call initializer instance with the dtype argument instead of passing it to the constructor\n",
      "W1124 15:23:55.497728 139620787267392 deprecation.py:323] From /home/trrrrr/Documents/github/ml/animal_master/rl_animal/networks.py:247: max_pooling2d (from tensorflow.python.layers.pooling) is deprecated and will be removed in a future version.\n",
      "Instructions for updating:\n",
      "Use keras.layers.MaxPooling2D instead.\n"
     ]
    },
    {
     "name": "stdout",
     "output_type": "stream",
     "text": [
      "\u001b[33mWARN: gym.spaces.Box autodetected dtype as <class 'numpy.float32'>. Please provide explicit dtype.\u001b[0m\n"
     ]
    },
    {
     "name": "stderr",
     "output_type": "stream",
     "text": [
      "W1124 15:23:55.582087 139620787267392 deprecation_wrapper.py:119] From /home/trrrrr/Documents/github/ml/animal_master/rl_animal/networks.py:194: The name tf.get_variable is deprecated. Please use tf.compat.v1.get_variable instead.\n",
      "\n"
     ]
    },
    {
     "name": "stdout",
     "output_type": "stream",
     "text": [
      "shapes of layer_1 [None, 42, 42, 16]\n",
      "shapes of layer_2 [None, 21, 21, 32]\n",
      "shapes of layer_3 [None, 11, 11, 64]\n",
      "shapes of layer_4 [None, 6, 6, 128]\n"
     ]
    },
    {
     "name": "stderr",
     "output_type": "stream",
     "text": [
      "W1124 15:23:56.608877 139620787267392 lazy_loader.py:50] \n",
      "The TensorFlow contrib module will not be included in TensorFlow 2.0.\n",
      "For more information, please see:\n",
      "  * https://github.com/tensorflow/community/blob/master/rfcs/20180907-contrib-sunset.md\n",
      "  * https://github.com/tensorflow/addons\n",
      "  * https://github.com/tensorflow/io (for I/O related ops)\n",
      "If you depend on functionality not listed there, please file an issue.\n",
      "\n",
      "W1124 15:23:56.609422 139620787267392 deprecation.py:323] From /home/trrrrr/anaconda3/envs/rl/lib/python3.6/site-packages/tensorflow/contrib/layers/python/layers/layers.py:1634: flatten (from tensorflow.python.layers.core) is deprecated and will be removed in a future version.\n",
      "Instructions for updating:\n",
      "Use keras.layers.flatten instead.\n",
      "W1124 15:23:56.755956 139620787267392 deprecation.py:323] From /home/trrrrr/Documents/github/ml/animal_master/rl_animal/networks.py:394: dense (from tensorflow.python.layers.core) is deprecated and will be removed in a future version.\n",
      "Instructions for updating:\n",
      "Use keras.layers.dense instead.\n",
      "W1124 15:23:58.869953 139620787267392 deprecation_wrapper.py:119] From /home/trrrrr/Documents/github/ml/animal_master/rl_animal/models.py:53: The name tf.random_uniform is deprecated. Please use tf.random.uniform instead.\n",
      "\n",
      "W1124 15:23:58.872507 139620787267392 deprecation_wrapper.py:119] From /home/trrrrr/Documents/github/ml/animal_master/rl_animal/models.py:54: The name tf.log is deprecated. Please use tf.math.log instead.\n",
      "\n",
      "W1124 15:23:58.905000 139620787267392 deprecation_wrapper.py:119] From /home/trrrrr/Documents/github/ml/animal_master/rl_animal/players.py:67: The name tf.train.Saver is deprecated. Please use tf.compat.v1.train.Saver instead.\n",
      "\n"
     ]
    },
    {
     "name": "stdout",
     "output_type": "stream",
     "text": [
      "0\n"
     ]
    },
    {
     "name": "stderr",
     "output_type": "stream",
     "text": [
      "W1124 15:24:03.029588 139620787267392 deprecation.py:323] From /home/trrrrr/anaconda3/envs/rl/lib/python3.6/site-packages/tensorflow/python/training/saver.py:1276: checkpoint_exists (from tensorflow.python.training.checkpoint_management) is deprecated and will be removed in a future version.\n",
      "Instructions for updating:\n",
      "Use standard file APIs to check for files with this prefix.\n"
     ]
    },
    {
     "name": "stdout",
     "output_type": "stream",
     "text": [
      "\u001b[33mWARN: gym.spaces.Box autodetected dtype as <class 'numpy.float32'>. Please provide explicit dtype.\u001b[0m\n"
     ]
    }
   ],
   "source": [
    "\n",
    "import numpy as np\n",
    "import players\n",
    "ppo_player = players.PpoPlayerDiscrete(sess, a2c_config)\n",
    "env = ppo_player.create_env()\n",
    "#ppo_player.restore('nn/stages_allAnimalAI')\n",
    "#ppo_player = players.PpoPlayerDiscrete(sess, a2c_config)\n",
    "#ppo_player.restore('nn/stages_allAnimalAI')\n",
    "ppo_player.restore('nn/last84_10_5')"
   ]
  },
  {
   "cell_type": "code",
   "execution_count": 3,
   "metadata": {},
   "outputs": [
    {
     "name": "stdout",
     "output_type": "stream",
     "text": [
      "\u001b[33mWARN: Trying to monitor an environment which has no 'spec' set. This usually means you did not create it via 'gym.make', and is recommended only for advanced users.\u001b[0m\n",
      "reset\n",
      "reward: -2.6752105625339913\n",
      "reset\n",
      "reward: 16.152335425838828\n",
      "reset\n",
      "reward: 12.420913683138789\n",
      "reset\n",
      "reward: 10.41196707655862\n",
      "reset\n",
      "reward: 11.475997920557857\n",
      "reset\n",
      "reward: 9.682873771980404\n",
      "reset\n",
      "reward: 9.054848156921565\n",
      "reset\n",
      "reward: 2.8302799435332417\n",
      "reset\n",
      "reward: 13.467674961060286\n",
      "reset\n",
      "reward: 11.474517868958413\n"
     ]
    }
   ],
   "source": [
    "import time\n",
    "time.sleep(2)\n",
    "ppo_player.reset()\n",
    "def evaluate(env,t_max=5000):\n",
    "    rewards = []\n",
    "    env.batch_mode = False\n",
    "    print('reset')\n",
    "    s = env.reset()\n",
    "    \n",
    "    \n",
    "    reward = 0\n",
    "    for it in range(5000):\n",
    "        action = ppo_player.get_action(s, False)\n",
    "        s, r, done, _ = env.step(action)\n",
    "        env.render()\n",
    "        reward += r\n",
    "        if done:\n",
    "            break       \n",
    "    time.sleep(1.0)\n",
    "    return reward\n",
    "\n",
    "import gym.wrappers\n",
    "\n",
    "env = gym.wrappers.Monitor(env,directory='video_ppo',force=True)\n",
    "\n",
    "sessions = [print('reward:', evaluate(env)) for _ in range(10)]\n",
    "env.close()"
   ]
  },
  {
   "cell_type": "raw",
   "metadata": {},
   "source": []
  },
  {
   "cell_type": "code",
   "execution_count": null,
   "metadata": {},
   "outputs": [],
   "source": []
  },
  {
   "cell_type": "code",
   "execution_count": null,
   "metadata": {},
   "outputs": [],
   "source": []
  },
  {
   "cell_type": "code",
   "execution_count": null,
   "metadata": {},
   "outputs": [],
   "source": []
  }
 ],
 "metadata": {
  "kernelspec": {
   "display_name": "Python 3",
   "language": "python",
   "name": "python3"
  },
  "language_info": {
   "codemirror_mode": {
    "name": "ipython",
    "version": 3
   },
   "file_extension": ".py",
   "mimetype": "text/x-python",
   "name": "python",
   "nbconvert_exporter": "python",
   "pygments_lexer": "ipython3",
   "version": "3.6.8"
  }
 },
 "nbformat": 4,
 "nbformat_minor": 2
}
